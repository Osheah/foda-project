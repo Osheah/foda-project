{
 "cells": [
  {
   "cell_type": "markdown",
   "metadata": {},
   "source": [
    "# - The Box plot\n",
    "\n",
    "### Project for GMIT Data Analysis: Fundamentals of Data Analytics\n"
   ]
  },
  {
   "cell_type": "markdown",
   "metadata": {},
   "source": [
    "### Libraries\n",
    "####  Import libraries"
   ]
  },
  {
   "cell_type": "code",
   "execution_count": 1,
   "metadata": {},
   "outputs": [],
   "source": [
    "# for rendering plots in jupyter notebook\n",
    "%matplotlib inline \n",
    "# matplotlib pyplot for graphics  \n",
    "import matplotlib.pyplot as plt\n",
    "# numpy for array calcuations and random number generation\n",
    "import numpy as np"
   ]
  },
  {
   "cell_type": "markdown",
   "metadata": {},
   "source": [
    "\n",
    "## Summarize the history of the Box Plot\n",
    "\n",
    "\n",
    "Data analysis involves understanding datasets. This is difficult to do with raw unprocessed data. Descriptive statistics can help show the important aspects of the data. Common descriptive measures include measures of averageness such as mean, median and mode, the spread or variance of the data and the data quartiles i.e. the level at which a quartile of observations are below this value. Descriptive measures allow the dataset to be compared to other datasets. Summary statistics can be visualized to show the main characteristics of the dataset in an easily accessible way. One such visual summary method is the box plot (Potter, 2006).\n",
    "\n",
    "### What is a box plot\n",
    "\n",
    "#### The 5 number summary\n",
    "\n",
    "A box plot, also known as a 'box and whisker' plot clearly illustrates the *5 number summary*. This contains five descriptive statistics of the dataset, namely, its maximum and minimum value, its median and its upper and lower quartiles. The box plot is typically constructed along the vertical axis with a horizontal line segment drawn at the lower and upper quartile. These boundaries are used to construct a fence or box which indicates the interquartile range of the data. The median value is drawn across the box. Lines or whiskers are drawn at the top and base of the box. These are typically extended to the maximum and minimum (respectively) data values or to a multiple of the interquartile range (typically 1.5). Setting the whiskers to a proportion of the interquartile range allows for numbers outside of this range to be identified. These are called outliers. The width of the standard box plot is aesthetically selected.\n",
    "\n",
    "#### Definitions\n",
    "* The range - the span from the minimum data value to the maximum data value\n",
    "* The median - the value from which 50% of the data lies below it. It is calculated differently depending on whether the size of the dataset is odd or even. e.g. the even set 1,2,3,4,5,6 has median value midway between the values 3 and 4 i.e. 3.5. While the odd set  1,2,3,4,5,6,7 has median 4 as there are equal data values on either side of it. \n"
   ]
  },
  {
   "cell_type": "code",
   "execution_count": 2,
   "metadata": {},
   "outputs": [
    {
     "name": "stdout",
     "output_type": "stream",
     "text": [
      "The median of 1-6 is  3.5\n",
      "The median of 1-7 is  4.0\n"
     ]
    }
   ],
   "source": [
    "data1 = range(1,7)\n",
    "print(\"The median of 1-6 is \", np.percentile(data1,50))\n",
    "#add pic of box plot\n",
    "data2 = range(1,8)\n",
    "print(\"The median of 1-7 is \", np.percentile(data2,50))"
   ]
  },
  {
   "cell_type": "markdown",
   "metadata": {},
   "source": [
    "* The lower quartile is the value that has 25% of data values lying below it\n",
    "* The upper quartile is the value that has 75% of data values lying below it\n",
    "There are different ways to measure the quartiles depending on whether or not the median is included in the calculation or not. Tukey included the median but statistical box plot packages like the one in matplotlib do not include the median in the quartile calculations [ref](https://en.wikipedia.org/wiki/Quartile). For example in the set 1, 2, 3, 4,5, 6 the lower quartile is found by dividing the data at the median (1, 2, 3)(4, 5, 6) and getting the median of the lower subset (1,2,3) e.g (1) 2 (3) - lower quartile is 2. The upper quartile is similarly calculated with the upper half of the data (4) 5 (6). The upper quartile is 5. "
   ]
  },
  {
   "cell_type": "code",
   "execution_count": 3,
   "metadata": {},
   "outputs": [
    {
     "name": "stdout",
     "output_type": "stream",
     "text": [
      "The lower quartile of 1-6 is  2\n",
      "The upper quartile of 1-6 is  5\n"
     ]
    }
   ],
   "source": [
    "data3 = range(1,7)\n",
    "print(\"The lower quartile of 1-6 is \", np.percentile(data3,25,interpolation='nearest'))\n",
    "#add pic of box plot\n",
    "data4 = range(1,8)\n",
    "print(\"The upper quartile of 1-6 is \", np.percentile(data4,75,interpolation='nearest'))\n",
    "\n"
   ]
  },
  {
   "cell_type": "markdown",
   "metadata": {},
   "source": [
    "* The interquartile range is the difference between the upper and lower quartile \n",
    "* Outliers are datavalues that lie outside of 1.5 times the interquartile range. They are atypical values.\n"
   ]
  },
  {
   "attachments": {},
   "cell_type": "markdown",
   "metadata": {},
   "source": [
    "#### Box plot construction\n",
    "The k percentiles are constructed at the k =  25%, 50% and 75% mark. The 25% mark was used to construct the bottom of the box and the 75% mark was used to construct the top of the box, with the median indicated by straight line mark within this box. This is was termed the H-spread of the data. The horizontal width of the box does not convey any statistical significance in Tukey's model and can be drawn for aesthetics, although the box should not be squarish. There are two 'whiskers' extending from the midpoint of the top and bottom of the box. These indicate the data distribution outside of the interquartile range. There is some variation in how to draw the whiskers. The top whisker goes from the 75% mark to the 97.5% quartile and the bottom whisker extends from the 2.5% quartile to the 25% quartile. Any observations not within this range 2.5-97.5 are plotted as 'outlier' dots. An outlier is an data observation that is distant from other data in the dataset. It could indicate an error in data collection or be significant and it frequently affects statistical analysis skewing the data. Often outliers are removed from the dataset for this reason.\n",
    "\n",
    "\n",
    "#### Development of the box plot\n",
    "\n",
    "\n",
    "\n",
    "A box and whisker plot is a way of summarizing a set of data measured on an interval scale. It is often used in explanatory data analysis. This type of graph is used to show the shape of the distribution, its central value, and its variability.\n",
    "\n",
    "In a box and whisker plot:\n",
    "\n",
    "    the ends of the box are the upper and lower quartiles, so the box spans the interquartile range\n",
    "    the median is marked by a vertical line inside the box\n",
    "    the whiskers are the two lines outside the box that extend to the highest and lowest observations. \n",
    "\n",
    "\n",
    "#### John W. Tukey\n",
    "\n",
    "\n",
    "John W. Tukey was a prominent mathematician. He received his phd in mathematics from Princeton University where he went on to be a professor in conjunction to working at AT&T Bell Laboratories.  He made many contributions to statistics and data analysis.  \n",
    "\n",
    "\n",
    "Tukey invented the prototype box plot or 'schematic plot' with his 'box and whiskers' plot in his  1970 preliminary edition of Exploratory Data Analysis (1977). The preliminary edition summarised and were influenced by three previous limited volumes used as his teaching material. He prefaced this volume with the quote\n",
    "\n",
    "> It is important to understand what you CAN Do before you learn to measure how WELL you seem to have DONE it\n",
    "Tukey, 1977. \n",
    "\n",
    "His book addressed data analysis investigation techniques including simple calculations and drawings that aid analysis. Tukey focused on simplifying data descriptions and expanding analysis beyond surface analysis. Tukey was a great believer in a simple picture that express the main characteristic of the data in a clear and unambiguous way. Tukey promoted a exploration and confirmation approach to data analysis and to try out methods, even if they are unsuccessful.    \n",
    "\n",
    "####  Tukey's Box and whisker plot\n",
    "\n",
    "Tukey's book contained problems that could all be done by hand. Box and whisker plots were introduced in the chapter on Schematic Summaries. Tukey's plot was very similar to the earlier range-bar developed by Mary Spear (1952). Spear's range bar precursor illustrated the data's range (lowest value and highest value), and key data 'k' percentiles of the median, lower quartile, upper quartile and the interquartile range as well as the data's range. The range bar is presented horizontally. \n",
    "\n",
    "![Spear's Range Bar](img\\spearrangebar.jpg)\n",
    "\n",
    "\n",
    "Tukey promoted exploratory data analysis. The box plot is a method to quickly analysis data with a five number summary. A five number summary charts the data's lowest and highest values, and the first and last quartile along with the median [ref](). Tukey's version of the '5 number summaries' and presented it vertically with 'hinges' or lines drawn at the 25%, 50% and 75% mark. The 25% mark was used to construct the bottom of the box and the 75% mark was used to construct the top of the box, with the median indicated by straight line mark within this box. This is was termed the H-spread of the data. The horizontal width of the box does not convey any statistical significance in Tukey's model and can be drawn for aesthetics, although the box should not be squarish. There are two 'whiskers' extending from the midpoint of the top and bottom of the box. These indicate the data distribution outside of the interquartile range. There is some variation in how to draw the whiskers. The top whisker goes from the 75% mark to the 97.5% quartile and the bottom whisker extends from the 2.5% quartile to the 25% quartile. Any observations not within this range 2.5-97.5 are plotted as 'outlier' dots. An outlier is an data observation that is distant from other data in the dataset. It could indicate an error in data collection or be significant and it frequently affects statistical analysis skewing the data. Often outliers are removed from the dataset for this reason.\n",
    "\n",
    "![Tukey's Box and whiskers plot](img\\TukeyBoxWhiskers.gif)\n",
    "\n",
    "\n",
    "\n",
    "\n",
    "### History of the box plot\n",
    "\n",
    "The precursor of the box plot was the 1948 range bar chart (Haemer as cited in Potter, 2006). Haemer (ibid) suggested expanding information displayed on a range bar by annotating median/mean/mode, standard deviation and tolerance limits on the chart. Mary Spears in 1952 (as cited in Potter, 2006) developed this to show the *5 number summary*. She reduced the range bar to cover half the data (its interquartile range), used whiskers to extend this to the maximum and minimum data values and added a cross bar at the median value. Tukey, 1977 developed the ubiquitous box plot in its modern form, by reducing the length of the whiskers to cover 1.5 times the interquartile range length. This allowed outliers to emerge, which are individually marked in the box plot. Tukey did not shade in his box unlike the range bar chart. In addition Tukey added cross bars to the ends of the whiskers. The box plot continued its minimalistic journey with the percentile plot which removed the box altogether and indicated the median by a small gap. Other variations of this is the abbreviated box plot which removes the sides of the box and indicates the median by small horizontal symmetric T bars (Potter, 2006). Minimalistic designs were typically used to display along side other graphing methods such as distributions or scatter plots. \n",
    "\n",
    "![Development of box plot](img\\p02.png)\n",
    "The figure is reproduced from Potter, K. 2006, Methods for presenting statistical information: the box plot\n",
    "\n",
    "\n",
    "### Box plot modifications and alternatives\n",
    "\n",
    "#### Modifications\n",
    "\n",
    "The box plot allows the 5 number summary to be quickly conveyed however there is key information that the standard box plot lacks. Information on distribution symmetry, data variation and mean are absent. These features can often be added to the box plot when required.   \n",
    "\n",
    "#### Adding Density information\n",
    "\n",
    "The standard box plot does not show the most common data values. The same 5 number statistics can have very different distribution shapes. This is problematic when trying to identify the distribution of the data as comparing it to other data distributions may be inappropriate. Benjamini (as cited in Potter) developed the hist plot as a simple method for adding density information. Here the median, upper and lower quartile density distribution is indicated by the width of their respective line segments. These are then connected by straight lines giving a hexagonal shape to the box. Benjamini developed this further with the vaseplot which includes estimates for each datum's density within the interquartile range. Confidence intervals can also be indicated by the width of a shaded bar around the median (Potter, 2006). Esty and Banfield, (as cited in Potter 2006) modified the box plot to include each points percentile distribution with their box percentile plot. Here the width of the box at each point is proportional the percentile value of the data till the median is reached then the width becomes proportional less its corresponding percentile. Again lines are drawn at the median and upper and lower quartiles. This plot covers the whole of the data, reducing ambiguity unlike whisker plots which can vary on how whiskers are calculated. Hintze and Nelson merged box plots and density displays with their violin plots (Hintze and Nelson, as cited in Potter, 2006). The violin plot replaces the median with a circle and the box with a thick black line. Like the percentile plot, the violin plot covers all the data and includes a density trace. The density trace is shown two symmetrical curves either side of the plot. The width interval can be specified and is typically set at 0.15 times the range of the data. Cohen and Cohen as cited in Potter, 2006 developed the sectioned density plot that uses perception depth to simulate a three dimensional representation of the data variation and central tendency. Sections overlap to give depth visual cues. This type of plot is created by dividing the data into fixed width sections which are plotted against a black background. The intervals are plotted in order from lowest density to highest density with each interval occluding the interval preceding it. Each additional interval is shifted slightly left of the interval before it and shaded slightly lighter than its predecessor. The 5 number summary is shown on the axis by a thin white box covering the interquartile range and white horizontal whiskers extending from the median, lower and upper quartiles to cover the density sections. \n",
    "\n",
    "![density box plots](img/densityboxplot.jpg)\n",
    "The figure is reproduced from Potter, K. 2006, Methods for presenting statistical information: the box plot\n",
    "\n",
    "\n",
    "#### Adding descriptive statistics information\n",
    "\n",
    "Sometimes adding density information is not required (or possible to achieve) but the box plot as it is, is still missing some essential information. For example comparing datasets with density information side by side could quickly crowd the plot obscuring information and possibly leading to wrong conclusions. McGill et al (as cited in Potter, 2006) suggested the variable width box plot, altering the box width to indicate the dataset size. This helps avoid misinterpretations by signaling the number of observations in each dataset. The notched box plot indicates the significant differences in values or confidence interval. If there is no overlap with the notches then there is strong evidence for the datasets having different means or distributions [ref](https://sites.google.com/site/davidsstatistics/home/notched-box-plots). The variable width box plot and notched plot can be combined to show information about confidence intervals and size of distribution. The addition of density to box plots allowed for identifying different underlying distributions with similar 5 number summaries but density box plots are not always possible with large datasets. In these cases descriptive statistics can be used instead of density to indicate key aspects of the dataset. \n",
    "\n",
    "\n",
    "Common statistical measures included skewness and kurtosis. Skewness is a measure of how symmetrical the dataset is and kurtosis is a measure of how pointy the distribution of the data is. These measures can be added to the box plot by adding thick lines at the quartiles or median when the data is skewed in that direction. For example a thick line at the upper quartile would indicate right skewness and at the lower quartile it would indicate left skewness. If both ends are thickened then a bimodal distribution is indicated. A thick line at the median would indicate a central peak (kurtosis). \n",
    "\n",
    "![Skewness and Kurtosis and Beam Fulcrum](![image.png](img/descstatboxplot.JPG))\n",
    "\n",
    "Doane and Tracy, as cited in Potter, 2006 developed the beam and fulcrum plot to use in conjunction with the box plot. Here the range is displayed as a line with the fulcrum pivot placed at the mean. Tick marks on the beam are placed at the standard deviation points and dots are added to show modality. The fulcrum base width can indicate the confidence interval. This type of plot makes it easy to identify non normal distributions and outliers. \n",
    "\n",
    "\n",
    "#### Extensions to two variables \n",
    "\n",
    "The box plot is a simple way to show the 5 number summary on one dimension. It can be used on bivariate but the challenge is how to represent this in visual form while still keeping the minimalistic design of the box plot. There are several bivariate box plots that show the 5 number summary as well as data location, spread, skewness and correlation. \n",
    "\n",
    "One such plot is the rangefinder box plot as developed by Becketti and Gould (as cited in Potter, 2006). This extends the box plot to two dimensions. This contains a scatterplot of the data. In addition it shows, for each of the two variables,  the 5 number summary with the range of the box plot for one dataset being displayed perpendicular to the range of the box plot for the other dataset. The rangefinder plot was improved by the addition of cross hair bars showing the upper and lower quartiles. This plot displays two sets of data with their 5  number summary on the same chart but does not include any information on the correlation between the datasets. \n",
    "\n",
    "Two dimensional representations of the box plot focus on the hinge at the median and the fence of the box. Different two dimensional methods differ in how the hinge and fence are represented and contours calculated. The two dimensional box plot (Tongkumchum, as cited in Potter, 2006) finds a robust line within the data. The data is divided into three sections. The median of the two outer sections is found and used to plot the robust line. The fences are drawn parallel to the robust line or the axis. Only the outer fence and inner hinge fences are drawn. \n",
    "\n",
    "\n",
    "\n",
    "Rousseeuw as cited in Potter 2006 developed the bagplot which sections the data into a bag, fence and loop. The deepest location or depth median is encapsulated by the 'bag' which holds half the data values with the largest depth. The fence is 3 times this area and is not drawn. Values between the bag and the fence are shaded and those outside the fence are outliers. The bagplot is a method of showing the location, spread, correlation skewness and tails of the datset.\n",
    "\n",
    "![Bagplot](img\\Bagplot-of-a-bivariate-data.png)\n",
    "\n",
    "[ref](https://stats.stackexchange.com/questions/41578/what-is-a-bagplot-or-bivariate-boxplot). Outliers are represented as stars (the bagplot is also known as the star plot). The data within the bag is often not plotted but surrounded by a line. Confidence areas can be added by a splatter at the depth median (Potter, 2006). Goldberg and Iglewicz delveloped the relplot and quelplot. These use concentric ellipses to mark the hinge and fence sections. The relplot assumes symmetric data and uses estimators such as minimum volume of the ellipse shape.Whereas the quelplot quarters the ellipse along its axes and uses an M-estimator for construction. This plot can show skewness as the quarters of the ellipse can be misshapen (Potter, 2009).  \n",
    "\n",
    "![Bivariate plots](img/bivariate.JPG)\n",
    "\n",
    "#### Alternatives\n",
    "The box plot is a simple way of showing the descriptive statistics of the 5 number summary. It has adaptations to include density, skewness and kurtosis as well as central tendencies and confidence intervals. In addition it can be extended to bivariate data. Alternatives to box plots and its modifications are non box plot ways to display data in order to see its characteristics. \n",
    "##### Histogram\n",
    "For numerical data a key method of data visualization is the histogram. The histogram counts the number of values within a specified interval and then plots them by drawing a bar chart. The histogram shows certain characteristics of the dataset. It can show modality, i.e if the distribution looks uniform, unimodal such as a normal distribution or bimodel. Histograms can also indicate skewness. Skewness is a measure of asymmetry. A histogram can show the direction of skewness (right skewed is pulled to the right or positively skewed and left skewed is pulled to the left or negatively skewed). Histograms can show information about the quantiles with the thickness of their tails. Outliers can also be identified if one datum has its bar some distance away from the rest of the bars on the histogram. The box plot lacks this ability to find modality within the data.  \n",
    "##### Quantile - Quantile Plots (QQ Plots)\n",
    "QQ plots compare dataset values against a known distribution. Typically the dataset is compared against a normal qq plot. This can identify if the dataset is normally distributed. Normal distribution is often a prerequisite for many statistical inferential tests. If the qq plot of the data is close to the Normal QQ Plot line then it is likely that the data is normally distributed. Normal QQ plots are constructed by calculating z scores where the z score of the datum is the datum value minus the sample mean all divided by the sample standard deviation. Transformations can be used to transform non normal data to allow it to be compared to the Normal QQ plot. If the data is positively skewed then log or square root transformations can be applied; If the data is negatively skewed use exponential or square transformations. \n",
    "\n",
    "#### Comparisons of visual summary techniques\n",
    "* Histograms can summarise any numerical data. The show the shape, modality, skewness, quantiles and presence of outliers however the length of the bar (its bin size) can influence how the histogram is interpreted. In addition they are very bulky and not easy to compare to other datasets on the one chart. \n",
    "\n",
    "* Box plots do not have to worry about bin size interpretations. They easily convey information about 5 number summaries, skewness, quartiles and outliers. Multiple datasets can be easily compared side by side. However modality cannot be estimated and there is some evidence of cognitive bias with interpretation of whiskers [ref](add some reference here) \n",
    "\n",
    "\n",
    "* QQ Plots can show if the data comes from a known distribution. Like box plots there is no difficulty with interpretation of 'bin' sizes. They can summarise quartile information. However multiple datasets are hard to compare side by side. In addition skewness, modality and presence of outliers are hard to identify. \n",
    "\n",
    "[ref](https://www.google.com/url?sa=t&rct=j&q=&esrc=s&source=web&cd=1&ved=2ahUKEwjjo_Doq_zeAhXoCMAKHbN_DcMQFjAAegQIERAC&url=http%3A%2F%2Fpages.cs.wisc.edu%2F~hyunseung%2Fstat431%2FLecture2-SummarizingData.pptx&usg=AOvVaw1OwwNlYnQ1ni2ACcto75Kd)\n",
    "\n"
   ]
  },
  {
   "cell_type": "code",
   "execution_count": 4,
   "metadata": {},
   "outputs": [
    {
     "data": {
      "image/png": "[encoded data removed]",
      "text/plain": [
       "<Figure size 432x288 with 1 Axes>"
      ]
     },
     "metadata": {
      "needs_background": "light"
     },
     "output_type": "display_data"
    },
    {
     "name": "stdout",
     "output_type": "stream",
     "text": [
      "The Lower Quartile is,  7.25\n",
      "The Median is,  12.5\n",
      "The Upper Quartile is,  17.0\n",
      "The value at the quartiles is  [array([ 7.25,  7.25, 17.  , 17.  ,  7.25])]\n",
      "The value at the median is  [array([12.5, 12.5])]\n",
      "The value at the whiskers are  [array([7.25, 3.  ]), array([17., 21.])]\n"
     ]
    }
   ],
   "source": [
    "data = [3, 7, 8, 5, 12, 14, 21, 13, 18, 50]\n",
    "plt.title(\"The box and whiskers plot - Tukey\")\n",
    "B=plt.boxplot(data, sym = 'b+' )\n",
    "plt.show()\n",
    "print(\"The Lower Quartile is, \", np.percentile(data, 25))\n",
    "print(\"The Median is, \", np.percentile(data, 50))\n",
    "print(\"The Upper Quartile is, \", np.percentile(data, 75))\n",
    "\n",
    "# Get the data presented in the boxplot\n",
    "print(\"The value at the quartiles is \",[item.get_ydata() for item in B['boxes']]) # this shows the upper and lower quartile\n",
    "print(\"The value at the median is \", [item.get_ydata() for item in B['medians']]) # this shows the median value\n",
    "print(\"The value at the whiskers are \", [item.get_ydata() for item in B['whiskers']]) # this shows the whiskers values\n"
   ]
  },
  {
   "cell_type": "markdown",
   "metadata": {},
   "source": [
    "### Demonstrate the use of matplotlib.pyplot.boxplot with data of your choosing\n",
    "\n",
    "![Matplotlib logo](img/logo2.png)\n",
    "\n",
    "\n",
    "[ref](https://matplotlib.org/api/_as_gen/matplotlib.pyplot.boxplot.html)\n",
    "\n",
    "Python has a module for plotting data called matplotlib. Within this there is a sub package called pyplot which has a function called boxplot. This is one way to plot boxplots within python. Other packages such as seaborn also have the ability to plot boxplots. For ease of reading matplotlib.pyplot will be abbreviated to plt. \n",
    "plt.box plot takes 28 inputs\n",
    "\n",
    "* x\n",
    "* notch\n",
    "* sym \n",
    "* vert\n",
    "* whis\n",
    "* positions\n",
    "* widths\n",
    "* patch_artist\n",
    "* bootstrap\n",
    "* usermedians\n",
    "* conf_intervals\n",
    "* meanline\n",
    "* showmeans\n",
    "* showcaps\n",
    "* showbox\n",
    "* showfliers\n",
    "* boxprops\n",
    "* labels\n",
    "* flierprops\n",
    "* medianprops\n",
    "* meanprops\n",
    "* capprops\n",
    "* whiskerprops\n",
    "* manage_xticks\n",
    "* autorange\n",
    "* zorder\n",
    "* \\*\n",
    "* data=None\n",
    "\n",
    "The default value for most of these (bar x, manage_xticks, autorange and \\*) is None. Many of these relate to the display of the boxplot. \n",
    "\n",
    "plt.boxplot takes an input *x* which can be an array or a vector column and draws its boxplot and whisker plot. The box is bound by the upper and lower quartile data values with the median value drawn though the box. The top whisker extend midway from the upper quartile line segment and the  bottom one from the midpoint of the lower quartile line segment. These extend north and south to indicate the range.\n",
    "\n",
    "### Data used\n",
    "Matplotlib.pyplot.boxplot features were explored using arrays and distributions generated by python package NumPy Random and its functions. Features were also explored using created arrays.  "
   ]
  },
  {
   "cell_type": "markdown",
   "metadata": {},
   "source": [
    "*x* is the array or sequence of vectors that is used as the data to be plotted."
   ]
  },
  {
   "cell_type": "code",
   "execution_count": 5,
   "metadata": {},
   "outputs": [
    {
     "data": {
      "image/png": "[encoded data removed]",
      "text/plain": [
       "<Figure size 432x288 with 1 Axes>"
      ]
     },
     "metadata": {
      "needs_background": "light"
     },
     "output_type": "display_data"
    }
   ],
   "source": [
    "x = [3, 7, 8, 5, 12, 14, 21, 13, 18, 50] # 50 is the outlier\n",
    "plt.title(\"A box plot with an outlier\")\n",
    "plt.boxplot(x)\n",
    "plt.show()"
   ]
  },
  {
   "cell_type": "markdown",
   "metadata": {},
   "source": [
    "*notch* is a boolean (True, False, None) and defaults to False. Set notch = True and this shows the confidence interval at the median. Chambers, 1983 as cited in [ref](https://sites.google.com/site/davidsstatistics/home/notched-box-plots) notes that if there is no overlap between the notches of different box plots then there is a 95% confidence level that the box plots have different medians. \n",
    "\n"
   ]
  },
  {
   "cell_type": "code",
   "execution_count": 6,
   "metadata": {},
   "outputs": [
    {
     "ename": "NameError",
     "evalue": "name 'y' is not defined",
     "output_type": "error",
     "traceback": [
      "\u001b[1;31m---------------------------------------------------------------------------\u001b[0m",
      "\u001b[1;31mNameError\u001b[0m                                 Traceback (most recent call last)",
      "\u001b[1;32m<ipython-input-6-c2010075ee53>\u001b[0m in \u001b[0;36m<module>\u001b[1;34m\u001b[0m\n\u001b[0;32m      1\u001b[0m \u001b[0mnotch\u001b[0m \u001b[1;33m=\u001b[0m \u001b[0mnp\u001b[0m\u001b[1;33m.\u001b[0m\u001b[0mrandom\u001b[0m\u001b[1;33m.\u001b[0m\u001b[0mrandint\u001b[0m\u001b[1;33m(\u001b[0m\u001b[1;36m9\u001b[0m\u001b[1;33m,\u001b[0m \u001b[1;36m20\u001b[0m\u001b[1;33m,\u001b[0m \u001b[1;36m40\u001b[0m\u001b[1;33m)\u001b[0m\u001b[1;33m\u001b[0m\u001b[1;33m\u001b[0m\u001b[0m\n\u001b[1;32m----> 2\u001b[1;33m \u001b[0mprint\u001b[0m\u001b[1;33m(\u001b[0m\u001b[0my\u001b[0m\u001b[1;33m)\u001b[0m\u001b[1;33m\u001b[0m\u001b[1;33m\u001b[0m\u001b[0m\n\u001b[0m\u001b[0;32m      3\u001b[0m \u001b[0mplt\u001b[0m\u001b[1;33m.\u001b[0m\u001b[0msubplot\u001b[0m\u001b[1;33m(\u001b[0m\u001b[1;36m121\u001b[0m\u001b[1;33m)\u001b[0m\u001b[1;33m\u001b[0m\u001b[1;33m\u001b[0m\u001b[0m\n\u001b[0;32m      4\u001b[0m \u001b[0mplt\u001b[0m\u001b[1;33m.\u001b[0m\u001b[0mtitle\u001b[0m\u001b[1;33m(\u001b[0m\u001b[1;34m\"A notched box plot\"\u001b[0m\u001b[1;33m)\u001b[0m\u001b[1;33m\u001b[0m\u001b[1;33m\u001b[0m\u001b[0m\n\u001b[0;32m      5\u001b[0m \u001b[0mplt\u001b[0m\u001b[1;33m.\u001b[0m\u001b[0mboxplot\u001b[0m\u001b[1;33m(\u001b[0m\u001b[0mnotch\u001b[0m\u001b[1;33m,\u001b[0m \u001b[0mnotch\u001b[0m \u001b[1;33m=\u001b[0m \u001b[1;32mTrue\u001b[0m\u001b[1;33m)\u001b[0m\u001b[1;33m\u001b[0m\u001b[1;33m\u001b[0m\u001b[0m\n",
      "\u001b[1;31mNameError\u001b[0m: name 'y' is not defined"
     ]
    }
   ],
   "source": [
    "notch = np.random.randint(9, 20, 40)\n",
    "print(y)\n",
    "plt.subplot(121)\n",
    "plt.title(\"A notched box plot\")\n",
    "plt.boxplot(notch, notch = True)\n",
    "plt.subplot(122)\n",
    "plt.title(\"The same box plot with no notch\")\n",
    "plt.boxplot(notch, notch = False)\n",
    "plt.show()"
   ]
  },
  {
   "cell_type": "markdown",
   "metadata": {},
   "source": [
    "*sym* is a string and it is the symbol used to mark the outlier points. If None is selected then the outliers are marked by the default 'o'. (The documentation says its 'b+' but I'm not getting a blue plus with the default value). \n",
    "\n"
   ]
  },
  {
   "cell_type": "code",
   "execution_count": null,
   "metadata": {},
   "outputs": [],
   "source": [
    "sym = [3, 7, 8, 5, 12, 14, 21, 13, 18, 50]\n",
    "plt.subplot(121)\n",
    "plt.title(\"Boxplot with outlier marked by o\")\n",
    "plt.boxplot(sym, sym = None)\n",
    "plt.subplot(122)\n",
    "plt.title(\"Boxplot with outlier marked by blue +\")\n",
    "plt.boxplot(sym, sym = 'b+')\n",
    "plt.subplots_adjust(left=None, bottom=None, right=1.5, top=None, wspace=None, hspace=None)# adjust the display of the subplots\n",
    "plt.show()"
   ]
  },
  {
   "cell_type": "markdown",
   "metadata": {},
   "source": [
    "*vert* is a boolean with default set to True. This sets the orientation of the box plot. The default is vertical orientation but if this option is set to False a horizontal boxplot is displayed. \n",
    "\n"
   ]
  },
  {
   "cell_type": "code",
   "execution_count": null,
   "metadata": {},
   "outputs": [],
   "source": [
    "vert = [3, 7, 8, 5, 12, 14, 21, 13, 18, 50]\n",
    "plt.title(\"Horizontal box plot\")\n",
    "plt.boxplot(vert, vert = False)\n",
    "plt.show()"
   ]
  },
  {
   "cell_type": "markdown",
   "metadata": {},
   "source": [
    "*whis* sets the length of the whiskers extending from the upper and lower quartile. The default value is 1.5 of the interquartile range IQR. The interquartile range is the difference between the upper quartile Q3 and the lower quartile Q1. For the default setting, the upper whisker is calculated by multiplying the IQR by whis and adding it to the upper quartile . The upper whisker will extend from the midpoint of the upper quartile to the last observation that is less than Q3+ whis \\*IRQ. The lower whisker extends from the lower quartile line segment midpoint to the first observation greater than Q1 - whis\\*IRQ. Any values outside of the whiskers are considered outliers. The whiskers can also be specified to span the maximum and minimum observations by entering 'range' as input. \n",
    "\n",
    "\n"
   ]
  },
  {
   "cell_type": "code",
   "execution_count": null,
   "metadata": {},
   "outputs": [],
   "source": [
    "whis = [3, 7, 8, 5, 12, 14, 21, 13, 18, 50]\n",
    "plt.subplot(121)\n",
    "plt.title(\"Box plot with whiskers spaning the range\")\n",
    "plt.boxplot(whis, whis = 'range' )\n",
    "plt.subplot(122)\n",
    "plt.title(\"Box plot with whiskers spaning 1.95*irq\")\n",
    "plt.boxplot(x, whis = 1.95)\n",
    "plt.subplots_adjust(left=None, bottom=None, right=1.5, top=None, wspace=None, hspace=None)# adjust the display of the subplots\n",
    "plt.show()"
   ]
  },
  {
   "cell_type": "markdown",
   "metadata": {},
   "source": [
    "*bootstrap* is an optional input that takes an integer value. It is used for notched boxplots and shows the bootstraped confidence interval around the median. Bootstrap refers to using an algorithm on the data itself in order to estimate the distribution of the data sample. These estimates can be then used to find the confidence interval of the percentile (in this case the median) [ref](https://garstats.wordpress.com/2016/05/27/the-percentile-bootstrap/). \n",
    "The default is None which means the notched boxplot is calculated via the limit of a normal distribution approximation method. If bootstrap is specified then the integer input is used to specify the median is bootstrapped in order to get the confidence interval to 95%. Recommended values are between 1000 and 10,000. \n"
   ]
  },
  {
   "cell_type": "code",
   "execution_count": null,
   "metadata": {},
   "outputs": [],
   "source": [
    "boot = np.random.randint(9, 20, 40)\n",
    "plt.subplot(121)\n",
    "plt.boxplot(boot)\n",
    "plt.subplot(122)\n",
    "plt.boxplot(boot, bootstrap = 1000)\n",
    "plt.show()\n"
   ]
  },
  {
   "cell_type": "markdown",
   "metadata": {},
   "source": [
    "*usermedians* takes an **array** or sequence as an input which needs to be the same size (length or dimension) as *x*. Specifying usermedians allows the default median to be overwritten with user specified values. \n",
    "\n"
   ]
  },
  {
   "cell_type": "code",
   "execution_count": null,
   "metadata": {},
   "outputs": [],
   "source": [
    "m, c = 5, 3,\n",
    "x = np.arange(0,10)\n",
    "error1= np.random.normal(1, 3)\n",
    "error2 = np.random.normal(2,7)\n",
    "data1 = m*x + c + error1\n",
    "data2 = m*x + c + error2\n",
    "usermedians =  [np.percentile(data2,50)]\n",
    "plt.subplot(121)\n",
    "plt.boxplot(data1)\n",
    "plt.subplot(122)\n",
    "plt.boxplot(data1, usermedians=usermedians)\n",
    "plt.show()"
   ]
  },
  {
   "cell_type": "markdown",
   "metadata": {},
   "source": [
    "*conf_intervals* is an optional input that takes array like values with the same shape (length or dimension) as *x* and whose second dimension is 2. The default value for conf_intervals is None. It is used in conjunction with notch. When this is specified it overwrites the notch calculated confidence intervals and replaces them with user specified intervals. \n"
   ]
  },
  {
   "cell_type": "code",
   "execution_count": null,
   "metadata": {},
   "outputs": [],
   "source": [
    "data = [100*np.random.rand(5)]\n",
    "print(len(data), data)\n",
    "cf_int = np.random.rand(5, 1,  2)\n",
    "print(len(cf_int), cf_int)\n",
    "plt.boxplot(data, notch = True, conf_intervals = cf_int)"
   ]
  },
  {
   "cell_type": "markdown",
   "metadata": {},
   "source": [
    "*positions* is an optional array like input. It allows for the position of the box to be set. Its default value is the range of 1 to the number of boxes required plus 1. "
   ]
  },
  {
   "cell_type": "code",
   "execution_count": null,
   "metadata": {},
   "outputs": [],
   "source": [
    "# adapted from http://blog.bharatbhole.com/creating-boxplots-with-matplotlib/\n",
    "pos1 = np.random.normal(1, 5, 50)\n",
    "pos2 = np.random.normal(1 ,2, 50)\n",
    "pos3 = np.random.normal(2, 3, 50)\n",
    "\n",
    "\n",
    "## join the three plots and plot their boxplot.   \n",
    "data_pos = [pos1, pos2, pos3]\n",
    "plt.boxplot(data_pos, positions = [1, 2, 3])\n",
    "plt.show()"
   ]
  },
  {
   "cell_type": "markdown",
   "metadata": {},
   "source": [
    "*widths* input is a scalar or array like value. It allows the width of the boxplot to be specified. Its default value is minimum of 0.5 or 0.15 by the length between its extreme (maximum/minimum) values. "
   ]
  },
  {
   "cell_type": "code",
   "execution_count": null,
   "metadata": {},
   "outputs": [],
   "source": [
    "\n",
    "wid1 = np.random.normal(1, 5, 50)\n",
    "wid2 = np.random.normal(2, 3, 50)\n",
    "wid3 = np.random.normal(2, 4, 50)\n",
    "wid4 = np.random.normal(1, 3, 50)\n",
    "wid_data = [wid1, wid2, wid3, wid4]\n",
    "plt.boxplot(wid_data, widths = [0.75, 0.5, 0.15, 0.3])\n",
    "plt.show()\n",
    "\n"
   ]
  },
  {
   "cell_type": "markdown",
   "metadata": {},
   "source": [
    "*patch_artist* is an optional boolean input. The default value is False. If it is set to False it draws 2 dimensional boxplots using the matplotlib package Patch artist. Which fills in the boxes with colour.   "
   ]
  },
  {
   "cell_type": "code",
   "execution_count": null,
   "metadata": {},
   "outputs": [],
   "source": [
    "pch1 = np.random.normal(1, 5, 50)\n",
    "pch2 = np.random.normal(2, 3, 50)\n",
    "pch3 = np.random.normal(2, 4, 50)\n",
    "pch4 = np.random.normal(1, 3, 50)\n",
    "pch_data = [pch1, pch2, pch3, pch4]\n",
    "plt.boxplot(pch_data, patch_artist = True)\n",
    "plt.show()"
   ]
  },
  {
   "cell_type": "markdown",
   "metadata": {},
   "source": [
    "*labels* is an optional input. It is a sequence that specifies dataset labels where the boxplot is drawn at the horizontal axis. The sequence must have the same dimensions as the data to be plotted (x). "
   ]
  },
  {
   "cell_type": "code",
   "execution_count": null,
   "metadata": {},
   "outputs": [],
   "source": [
    "lab1 = np.random.normal(1, 5, 50)\n",
    "lab2 = np.random.normal(2, 3, 50)\n",
    "lab3 = np.random.normal(2, 4, 50)\n",
    "lab4 = np.random.normal(1, 3, 50)\n",
    "lab_data = [lab1, lab2, lab3, lab4]\n",
    "plt.boxplot(lab_data, labels = ['Lab 1', 'Lab 2', 'Lab 3', 'Lab 4'])\n",
    "plt.show()"
   ]
  },
  {
   "cell_type": "markdown",
   "metadata": {},
   "source": [
    "*manage_xticks* is an optional boolean input that defaults to True. It specifies if the xlim and xtick locations should be adjusted. xlim gets or sets the limits of the x axis [](https://matplotlib.org/api/_as_gen/matplotlib.pyplot.xlim.html) and xtick gets or sets the tick values on the x axis [](https://matplotlib.org/api/_as_gen/matplotlib.pyplot.xticks.html)."
   ]
  },
  {
   "cell_type": "code",
   "execution_count": null,
   "metadata": {},
   "outputs": [],
   "source": [
    "man1 = np.random.normal(1, 5, 50)\n",
    "print(\"The xlim, xtick set to False shows the x tick values and limits\")\n",
    "plt.boxplot(man1, manage_xticks = False)\n",
    "plt.show()\n",
    "print(\"The default value is True which removes the xlim, xtick information\")\n",
    "\n",
    "plt.boxplot(man1, manage_xticks = True)\n",
    "plt.show()"
   ]
  },
  {
   "cell_type": "markdown",
   "metadata": {},
   "source": [
    "*autorange* is an optional boolean input that defaults to False. If True is specified and the observations have equally distributed Q1 and Q3 values then it will set the whis to 'range' allowing the whiskers to extend to the maximum and minimum data values. \n"
   ]
  },
  {
   "cell_type": "code",
   "execution_count": null,
   "metadata": {},
   "outputs": [],
   "source": [
    "ar1 =  np.random.uniform(0,10, 50) # symetrical distribution\n",
    "plt.boxplot(ar1, whis = 0.2)# set the whiskers low to get outliers\n",
    "plt.show()\n",
    "plt.subplot(121)\n",
    "plt.boxplot(ar1, autorange=True) # extend whiskers to max and min of range\n",
    "plt.subplot(122)\n",
    "plt.boxplot(ar1, whis = 'range') # which is the same as setting the whis\n",
    "plt.show()"
   ]
  },
  {
   "cell_type": "markdown",
   "metadata": {},
   "source": [
    "*meanline* is an optional boolean input that defaults to False. If meanline and showmeans are both set to True then it will show the line going across the box in the style specified by meanprops"
   ]
  },
  {
   "cell_type": "code",
   "execution_count": null,
   "metadata": {},
   "outputs": [],
   "source": [
    "ml1 =  np.random.uniform(0,10, 50) \n",
    "plt.boxplot(ml1, showmeans = True, meanline=True)\n",
    "plt.show()"
   ]
  },
  {
   "cell_type": "markdown",
   "metadata": {},
   "source": [
    "*zorder* is an optional scalar input that sets the boxplot's zorder. A z order is a way of stacking overlapping elements. The lower z orders are behind other objects on the plot and the higher z order objects are in front."
   ]
  },
  {
   "cell_type": "code",
   "execution_count": null,
   "metadata": {},
   "outputs": [],
   "source": [
    "zo1 = np.random.randint(1, 12, 10)\n",
    "zo2 = np.random.randint(2, 10, 10)\n",
    "zo3 = np.random.randint(3, 15, 10)\n",
    "\n",
    "plt.boxplot(zo1, notch = True, zorder = 3, patch_artist = True)# this will be the top most object\n",
    "plt.boxplot(zo2, notch = False, zorder = 1) # this will be the bottom object\n",
    "plt.boxplot(zo3, zorder = 2)\n",
    "plt.show()"
   ]
  },
  {
   "cell_type": "markdown",
   "metadata": {},
   "source": [
    "*showcaps* is an optional boolean which defaults to True. It toggles the display of the cap bars at the ends of the whiskers"
   ]
  },
  {
   "cell_type": "code",
   "execution_count": null,
   "metadata": {
    "scrolled": true
   },
   "outputs": [],
   "source": [
    "caps = np.random.normal(1, 12, 10)\n",
    "plt.boxplot(caps, showcaps = False)\n",
    "plt.show()\n",
    "plt.boxplot(caps, showcaps = True)\n",
    "plt.show()"
   ]
  },
  {
   "cell_type": "markdown",
   "metadata": {},
   "source": [
    "*showbox* is an optional boolean that toggles the box outline of the boxplot. It defaults to True\n"
   ]
  },
  {
   "cell_type": "code",
   "execution_count": null,
   "metadata": {},
   "outputs": [],
   "source": [
    "sb = np.random.normal(1, 12, 10)\n",
    "plt.boxplot(sb, showbox = False)\n",
    "plt.show()\n",
    "plt.boxplot(caps, showbox = True)\n",
    "plt.show()"
   ]
  },
  {
   "cell_type": "markdown",
   "metadata": {},
   "source": [
    "*showfliers* is an optional boolean that defaults to True. It toggles the fliers which I think refers to outliers. Fliers is mentioned in the manual but it seems to be items beyond the whiskers e.g. outliers. "
   ]
  },
  {
   "cell_type": "code",
   "execution_count": null,
   "metadata": {},
   "outputs": [],
   "source": [
    "rs = np.random.RandomState(2)# set the random state to generate the same random numbers\n",
    "sf = rs.normal(1, 12, 10) # generate random data in the normal distribution. This data has one outlier\n",
    "plt.boxplot(sf, showfliers = False)# dont show the outliers and plot the data as if its excluded\n",
    "plt.show()\n",
    "plt.boxplot(sf, showfliers = True)# show the outliers\n",
    "plt.show()\n"
   ]
  },
  {
   "cell_type": "markdown",
   "metadata": {},
   "source": [
    "*showmeans* is an optional boolean that defaults to False. When this is set the means are shown by the top of a small green triangle flag."
   ]
  },
  {
   "cell_type": "code",
   "execution_count": null,
   "metadata": {},
   "outputs": [],
   "source": [
    "sm = np.random.rand(20, 3)\n",
    "print(sm)\n",
    "print(\"\\n The mean of the first column is \", sm[0:].mean(),\"\\n The mean of the second column is \", sm[1:].mean(),\n",
    "       \"\\n The mean of the third column is \", sm[2:].mean())\n",
    "print(\"\\n The median of the first column is \", np.percentile(sm[0:], 50),\"\\n The median of the second column is \", np.percentile(sm[1:], 50),\n",
    "       \"\\n The median of the third column is \", np.percentile(sm[2:], 50))\n",
    "plt.boxplot(sm, showmeans = False)\n",
    "plt.show()\n",
    "plt.boxplot(sm, showmeans = True) # the mean is indicated by the green triangle\n",
    "plt.show()\n",
    "\n"
   ]
  },
  {
   "cell_type": "markdown",
   "metadata": {},
   "source": [
    "*capprops* is an optional dictionary input that defaults to None. It sets the styling of the caps in the box plot i.e. the horizontal bars at the top of the whiskers.  A similar feature is available for other elements of the box plot\n",
    "*boxprops* sets the style of the box while *whiskerprops* sets the style of the whiskers. *flierprops* sets the style of the outliers while *medianprops* and *meanprops* does the same for the medians. \n",
    "\n"
   ]
  },
  {
   "cell_type": "code",
   "execution_count": null,
   "metadata": {},
   "outputs": [],
   "source": [
    "cp = np.random.rand(20, 3)\n",
    "# set style for the caps with capprop \n",
    "capprops = {'color': 'blue', 'linestyle': '-.'}\n",
    "\n",
    "plt.boxplot(cp, capprops=capprops)\n",
    "plt.show()"
   ]
  },
  {
   "cell_type": "code",
   "execution_count": null,
   "metadata": {},
   "outputs": [],
   "source": [
    "cp = np.random.rand(20, 3)\n",
    "# set style for the caps with capprop \n",
    "boxprops = {'color': 'blue', 'linestyle': ':'}\n",
    "whiskerprops = {'color': 'green', 'linestyle': '--'}\n",
    "flierprops = {'color': 'red', 'linestyle': '-.'}\n",
    "medianprops = {'color': 'orange', 'linestyle': '-'}\n",
    "meanprops  = {'color': 'black', 'linestyle': '-.'}\n",
    "capprops = {'color': 'purple', 'linestyle': '-'}\n",
    "\n",
    "\n",
    "plt.boxplot(cp, boxprops = boxprops, whiskerprops = whiskerprops, flierprops = flierprops, medianprops = medianprops, meanprops = meanprops, capprops=capprops)\n",
    "plt.show()"
   ]
  },
  {
   "cell_type": "markdown",
   "metadata": {},
   "source": [
    "Putting it all together you can create some nice looking boxplots with matplotlib.pyplot.boxplot"
   ]
  },
  {
   "cell_type": "code",
   "execution_count": null,
   "metadata": {},
   "outputs": [],
   "source": [
    "data = np.random.rand(50, 4)\n",
    "labels = ['set 1', 'set 2', 'set 3', 'set 4']\n",
    "#change colour of boxes\n",
    "# adapted from https://stackoverflow.com/questions/20289091/python-matplotlib-filled-boxplots and \n",
    "# here http://blog.bharatbhole.com/creating-boxplots-with-matplotlib/\n",
    "bp = plt.boxplot(data, patch_artist = True, labels = labels)\n",
    "colors = ['blue', 'green', 'orange', 'purple']\n",
    "for patch, color in zip(bp['boxes'], colors):\n",
    "    patch.set_facecolor(color)\n",
    "    \n",
    "for whisker in bp['whiskers']:\n",
    "    whisker.set(color='lightblue', linewidth=1.5)\n",
    "## change color and linewidth of the caps\n",
    "for cap in bp['caps']:\n",
    "    cap.set(color='lightblue', linewidth=1.5)\n",
    "\n",
    "## change color and linewidth of the medians\n",
    "for median in bp['medians']:\n",
    "    median.set(color='red', linewidth=2)\n",
    "\n",
    "## change the style of fliers and their fill\n",
    "for flier in bp['fliers']:\n",
    "    flier.set(marker='o', color='cyan', alpha=0.5)\n",
    "plt.title(\"Boxplots\")\n",
    "plt.xlabel(\"data sets\")\n",
    "plt.ylabel(\"random numbers in [0,1)\")\n",
    "plt.show()\n",
    "\n",
    "\n"
   ]
  },
  {
   "cell_type": "markdown",
   "metadata": {},
   "source": [
    "# References\n",
    "\n",
    "\n",
    "http://vita.had.co.nz/papers/boxplots.pdf\n",
    "\n",
    "\n",
    "https://www.jstatsoft.org/article/view/v008i17\n",
    "\n",
    "Principles of Medical Statistics Alvan R. Feinstein, M.D.\n",
    "\n",
    "TY  - BOOK\n",
    "AU  - Potter, Kristin\n",
    "PY  - 2006/01/01\n",
    "SP  - \n",
    "T1  - Methods for presenting statistical information: The box plot\n",
    "ER  - \n",
    "\n",
    "numpy manual\n",
    "matplotlib manual\n"
   ]
  }
 ],
 "metadata": {
  "kernelspec": {
   "display_name": "Python 3",
   "language": "python",
   "name": "python3"
  },
  "language_info": {
   "codemirror_mode": {
    "name": "ipython",
    "version": 3
   },
   "file_extension": ".py",
   "mimetype": "text/x-python",
   "name": "python",
   "nbconvert_exporter": "python",
   "pygments_lexer": "ipython3",
   "version": "3.6.7"
  }
 },
 "nbformat": 4,
 "nbformat_minor": 2
}
