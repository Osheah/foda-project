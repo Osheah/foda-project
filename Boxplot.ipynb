{
 "cells": [
  {
   "cell_type": "markdown",
   "metadata": {},
   "source": [
    "## - The Box plot\n",
    "\n",
    "\n",
    "## The history of the Box plot\n",
    "\n",
    "### What is a box plot\n",
    "\n",
    "A box plot, also known as a 'box and whisker' plot illustrates the five number summary in a neat, clear graph. \n",
    "The five number summary of a dataset notes its highest and lowest value along with its 25%, 50% and 75% percentiles. \n",
    "\n",
    "k-percentiles are calculated by ordering the data and dividing them in such a way that 'k' percent of them fall below this number. Some percentiles have special names; The median is the 50% percentile. The lower quartile is the 25% percentile and the 75% is termed the upper quartile. \n",
    "\n",
    "Quartiles can be calculated in slightly different ways depending on if the median value is taken as part of the sorted dataset or not [](https://en.wikipedia.org/wiki/Quartile). If the number of data items are even then the data can be divided into two equal numbered sets. If the number of data items are odd then quartile calculations differ depending on if the datum at the median is included or excluded in the other halves. The Box plot function in the python module matplotlib excludes the median value from quartile calculations whereas the original box plot as described by Tukey included the median in the quartile calculations.  [](https://en.wikipedia.org/wiki/Quartile). \n",
    "\n",
    "The lower quartile is calculated by spliting the data at the median and then splitting the lower half again by its median. The upper quartile is got by splitting the data at the median and then splitting the upper half again by its median. \n",
    "\n",
    "Lets illustrate this with an example: \n",
    "\n",
    "\n",
    "Take the data observations 3, 7, 8, 5, 12, 14, 21, 13, 18 \n",
    "Sort the data in increasing order e.g. 3, 5, 7, 8, 12, 13, 14, 18, 21\n",
    "\n",
    "\n",
    "--- figure out how to matplotlib plots the IQR\n",
    "\n",
    "\n",
    "\n",
    "\n",
    "Take some data. Sort it in order from lowest value to highest value. Note the lowest and highest value. The difference between these figures is the range interval. If the number of data is even then  Divide the data into quarters (note there are different methods in doing this). Note the first quarter value, the second quarter value (halfway mark) and the upper quarter value. You now have a five number summary of the data. \n",
    "\n",
    "e.g. #$ 3,7,2, 5, 9 $ sorted is $2, 3, 5, 7, 9$ \n",
    "Lowest value is 2; Highest value is 9; range is 2 to 9; Split the ordered data in half \n",
    "2, 3\n",
    "5 \n",
    "7, 9\n",
    "This middle value, 5 is the median. \n",
    "Split the lower half in two\n",
    "2\n",
    "3\n",
    "Half of this half dataset are under 3 so 3 is the Lower quartile.\n",
    "Split the upper half in two\n",
    "7, 9\n",
    "Half of this half dataset are \n",
    "\n",
    "Lower quartile LQ is 2+1.75 = 3.75; Midpoint is 2+(2\\*(1.75))= 5.5 and upper quartile is UQ 9-1.75 = 5.5+1.75 = 7.25.  This quick calculation gives a rough analysis of the data. \n",
    "\n",
    "In practice there is some variation in how the quartiles are calculated when the number of data is odd. \n",
    "\n",
    "A box plot, also known as 'box and whisker plot' illustrates the five number summary in a neat graph. Typically it is used to identify if the data distribution is skewed or if atypical observations i.e outliers are present. Box plots are useful when there are a lot of observations in the dataset and for comparing different datasets to each other. Box plots quickly illustrate the main features of a distribution, its centre, spread and range. They are a key data exploration tool. [ref](https://www150.statcan.gc.ca/n1/edu/power-pouvoir/ch12/5214889-eng.htm). \n",
    "\n",
    "\n",
    "\n",
    "\n",
    "\n",
    "\n",
    "### What does a boxplot look like\n",
    "Typically box plots are displayed along the vertical axis. A horizontal line segment is drawn at the lower and upper quartile point. A rectangular box is drawn connecting the two horizontal line segments. The width of the horizontal line segment is left to the aesthetics of the person drawing the plot. Another line segment is drawn a the median (the second quartile point). A perpendicular line from upper quartile line segment to the maximum value is drawn and from the lower quartile line segment to the lowest point. These are the whiskers. \n",
    "\n",
    "\n"
   ]
  },
  {
   "cell_type": "markdown",
   "metadata": {},
   "source": [
    "notes to look at\n",
    "\n",
    "'''\n",
    "irst Quartile and Third Quartile\n",
    "\n",
    "Definitions:\n",
    "\n",
    "    The lower half of a data set is the set of all values that are to the left of the median value when the data has been put into increasing order.\n",
    "    The upper half of a data set is the set of all values that are to the right of the median value when the data has been put into increasing order.\n",
    "    The first quartile, denoted by Q1 , is the median of the lower half of the data set. This means that about 25% of the numbers in the data set lie below Q1 and about 75% lie above Q1 .\n",
    "    The third quartile, denoted by Q3 , is the median of the upper half of the data set. This means that about 75% of the numbers in the data set lie below Q3 and about 25% lie above Q3 .\n",
    "\n",
    "Example 1: Find the first and third quartiles of the data set {3, 7, 8, 5, 12, 14, 21, 13, 18}.\n",
    "\n",
    "First, we write data in increasing order: 3, 5, 7, 8, 12, 13, 14, 18, 21.\n",
    "\n",
    "Quartile1.PNG\n",
    "\n",
    "As on the previous page, the median is 12.\n",
    "\n",
    "Therefore, the lower half of the data is: {3, 5, 7, 8}.\n",
    "\n",
    "The first quartile, Q1, is the median of {3, 5, 7, 8}.\n",
    "\n",
    "Since there is an even number of values, we need the mean of the middle two values to find the first quartile:\n",
    "\n",
    "[equation image indicator] .\n",
    "\n",
    "Similarly, the upper half of the data is: {13, 14, 18, 21}, so\n",
    "\n",
    "[equation image indicator] .\n",
    "\n",
    "Example 2: Find the first and third quartiles of the set {3, 7, 8, 5, 12, 14, 21, 15, 18, 14}.\n",
    "\n",
    "Note that here we consider the two 14's to be distinct elements and not representing the same item; consider this like you obtained a score of 14 on two different quizzes.\n",
    "\n",
    "First, we write the data in increasing order: 3, 5, 7, 8, 12, 14, 14, 15, 18, 21.\n",
    "\n",
    "As before, the median is 13 (it is the mean of 12 and 14 — the pair of middle entries).\n",
    "\n",
    "Therefore, the lower half of the data is: {3, 5, 7, 8, 12}.  \n",
    "\n",
    "Notice that 12 is included in the lower half since it is below the median value.\n",
    "\n",
    "Then Q1 = 7 (there are five values in the lower half, so the middle value is the median). Similarly, the upper half of the data is: {14, 14, 15, 18, 21}, so Q3 = 15.\n",
    "Self Check Problem\n",
    "\n",
    "The following dollar amounts were the hourly collections from a Salvation Army kettle at a local store one day in December: $19, $26, $25, $37, $32, $28, $22, $23, $29, $34, $39, and $31. Determine the first quartile and third quartile for the amount collected.\n",
    "\n",
    "Solution [text annotation indicator] \n",
    "'''\n",
    "\n",
    "\n",
    "'''\n",
    "from here https://www.britannica.com/science/statistics/Numerical-measures#ref367419\n",
    "Exploratory data analysis\n",
    "\n",
    "Exploratory data analysis provides a variety of tools for quickly summarizing and gaining insight about a set of data. Two such methods are the five-number summary and the box plot. A five-number summary simply consists of the smallest data value, the first quartile, the median, the third quartile, and the largest data value. A box plot is a graphical device based on a five-number summary. A rectangle (i.e., the box) is drawn with the ends of the rectangle located at the first and third quartiles. The rectangle represents the middle 50 percent of the data. A vertical line is drawn in the rectangle to locate the median. Finally lines, called whiskers, extend from one end of the rectangle to the smallest data value and from the other end of the rectangle to the largest data value. If outliers are present, the whiskers generally extend only to the smallest and largest data values that are not outliers. Dots, or asterisks, are then placed outside the whiskers to denote the presence of outliers\n",
    "'''\n",
    "\n",
    "'''taken from\n",
    "https://www.britannica.com/science/box-and-whisker-plot#\n",
    "Box-and-whisker plot, also called boxplot or box plot, graph that summarizes numerical data based on quartiles, which divide a data set into fourths. The box-and-whisker plot is useful for revealing the central tendency and variability of a data set, the distribution (particularly symmetry or skewness) of the data, and the presence of outliers. It is also a powerful graphical technique for comparing samples from two or more different treatments or populations. It was invented in the 1970s by American statistician John Wilder Tukey.\n",
    "\n",
    "A box-and-whisker plot typically consists of a line (vertical or horizontal) extending from the minimum value to the maximum value and a box, the end lines of which depict the first quartile (Q1) and the third quartile (Q3) and a central line within which depicts the second quartile (Q2; also called the median). (The first quartile represents the 25th percentile, the second quartile represents the 50th percentile, and the third quartile represents the 75th percentile.) Outliers are plotted as individual data points.\n",
    "'''\n"
   ]
  },
  {
   "cell_type": "markdown",
   "metadata": {},
   "source": [
    "### Import libraries"
   ]
  },
  {
   "cell_type": "markdown",
   "metadata": {},
   "source": [
    "# Libraries"
   ]
  },
  {
   "cell_type": "markdown",
   "metadata": {},
   "source": [
    "\n",
    "ideas\n",
    "history \n",
    "development of the range bar box whiskers box etc \n",
    "show a discription with number ordering and spliting\n",
    "show how easy this is with pen and paper https://www.khanacademy.org/math/statistics-probability/summarizing-quantitative-data/box-whisker-plots/a/box-plot-review\n",
    "do a section on the different ways to measure the whiskers\n",
    "different ways of marking outliers\n",
    "add a section on the advanatages of box plots\n",
    "simple \n",
    "quick \n",
    "can be performed with pen an paper - contains a lot of information\n",
    "\n",
    "\n",
    "add section on the matplotlib box plot feature\n",
    "look it up in the references for this package\n",
    "\n",
    "add a section on the various modifications of box plots, violin plots etc\n",
    "\n",
    "add a section on disadvantages of the box plots\n",
    "biases add a section on biases in whisker comparisions\n"
   ]
  },
  {
   "cell_type": "code",
   "execution_count": 7,
   "metadata": {},
   "outputs": [],
   "source": [
    "# for rendering plots in jupyter notebook\n",
    "%matplotlib inline \n",
    "import matplotlib.pyplot as plt\n",
    "import numpy as np"
   ]
  },
  {
   "cell_type": "code",
   "execution_count": 44,
   "metadata": {},
   "outputs": [
    {
     "data": {
      "image/png": "[encoded data removed]",
      "text/plain": [
       "<Figure size 432x288 with 1 Axes>"
      ]
     },
     "metadata": {
      "needs_background": "light"
     },
     "output_type": "display_data"
    },
    {
     "name": "stdout",
     "output_type": "stream",
     "text": [
      "The Lower Quartile is,  7.25\n",
      "The Median is,  12.5\n",
      "The Upper Quartile is,  17.0\n"
     ]
    },
    {
     "data": {
      "text/plain": [
       "[array([7.25, 3.  ]), array([17., 21.])]"
      ]
     },
     "execution_count": 44,
     "metadata": {},
     "output_type": "execute_result"
    },
    {
     "data": {
      "image/png": "[encoded data removed]",
      "text/plain": [
       "<Figure size 432x288 with 1 Axes>"
      ]
     },
     "metadata": {
      "needs_background": "light"
     },
     "output_type": "display_data"
    }
   ],
   "source": [
    "data = [3, 7, 8, 5, 12, 14, 21, 13, 18, 50]\n",
    "plt.boxplot(data, sym = 'b+', vert = False, )\n",
    "plt.show()\n",
    "print(\"The Lower Quartile is, \", np.percentile(data, 25))\n",
    "print(\"The Median is, \", np.percentile(data, 50))\n",
    "print(\"The Upper Quartile is, \", np.percentile(data, 75))\n",
    "\n",
    "\n",
    "\n",
    "B=plt.boxplot(data)\n",
    "[item.get_ydata() for item in B['boxes']] # this shows the upper and lower quartile\n",
    "\n",
    "[item.get_ydata() for item in B['medians']] # this shows the median value\n",
    "\n",
    "[item.get_ydata() for item in B['whiskers']] # this shows the whiskers values\n"
   ]
  },
  {
   "cell_type": "code",
   "execution_count": null,
   "metadata": {},
   "outputs": [],
   "source": []
  },
  {
   "cell_type": "code",
   "execution_count": null,
   "metadata": {},
   "outputs": [],
   "source": []
  },
  {
   "cell_type": "markdown",
   "metadata": {},
   "source": [
    "The center of the horizontal line segments is then extended from the midpoint of that line segment to the upper   and the upper quartile \n",
    "\n",
    "\n",
    "25%, 50% and 75% mark. The 25% mark was used to construct the bottom of the box and the 75% mark was used to construct the top of the box, with the median indicated by straight line mark within this box. This is was termed the H-spread of the data. The horizontal width of the box does not convey any statistical significance in Tukey's model and can be drawn for aesthetics, although the box should not be squarish. There are two 'whiskers' extending from the midpoint of the top and bottom of the box. These indicate the data distribution outside of the interquartile range. There is some variation in how to draw the whiskers. The top whisker goes from the 75% mark to the 97.5% quartile and the bottom whisker extends from the 2.5% quartile to the 25% quartile. Any observations not within this range 2.5-97.5 are plotted as 'outlier' dots. An outlier is an data observation that is distant from other data in the dataset. It could indicate an error in data collection or be significant and it frequently affects statistical analysis skewing the data. Often outliers are removed from the dataset for this reason.\n",
    "\n",
    "\n",
    "### Development of the box plot\n",
    "\n",
    "\n",
    "\n",
    "A box and whisker plot is a way of summarizing a set of data measured on an interval scale. It is often used in explanatory data analysis. This type of graph is used to show the shape of the distribution, its central value, and its variability.\n",
    "\n",
    "In a box and whisker plot:\n",
    "\n",
    "    the ends of the box are the upper and lower quartiles, so the box spans the interquartile range\n",
    "    the median is marked by a vertical line inside the box\n",
    "    the whiskers are the two lines outside the box that extend to the highest and lowest observations. \n",
    "\n",
    "\n",
    "### John W. Tukey\n",
    "\n",
    "\n",
    "\n",
    "John W. Tukey was a prominent mathematician. He received his phd in mathematics from Princeton University where he went on to be a professor in conjunction to working at AT&T Bell Laboratories.  He made many contributions to statistics and data analysis.  \n",
    "\n",
    "\n",
    "Tukey invented the prototype box plot or 'schematic plot' with his 'box and whiskers' plot in his  1970 preliminary edition of Exploratory Data Analysis (1977). The preliminary edition summarised and were influenced by three previous limited volumes used as his teaching material. He prefaced this volume with the quote\n",
    "\n",
    "> It is important to understand what you CAN Do before you learn to measure how WELL you seem to have DONE it\n",
    "Tukey, 1977. \n",
    "\n",
    "His book addressed data analysis investigation techniques including simple calculations and drawings that aid analysis. Tukey focused on simplifying data descriptions and expanding analysis beyond surface analysis. Like Anscombe (1936?) he was a great believer in a simple picture that express the main characteristic of the data in a clear and unambiguous way. Tukey promoted a exploration and confirmation approach to data analysis and to try out methods, even if they are unsuccessful.    \n",
    "\n",
    "### Tukey's Box and whisker plot\n",
    "\n",
    "Tukey's book contained problems that could all be done by hand. His first 6 chapters formed the core methods. Box and whisker plots were introduced in chapter 2 Schematic Summaries. Tukey's plot was very similar to the earlier range-bar developed by Mary Spear (1952). \n",
    "\n",
    "\n",
    "#### Some terms\n",
    "\n",
    "###### range\n",
    "The range is the interval from its lowest to highest value it can refer to both the x axis values (the domain) or the y axis values (the codomain) if there is a function between the two. For example the range in the following set $ 0, 2, 4, 6, 8, 9, 10$  $is$ $[0-10]$ as 0 is the lowest value and 10 is the highest value. To calculate the range by hand the data needs to be sorted.\n",
    "\n",
    "\n",
    "###### percentiles \n",
    "The k percentile is a statistical measure in which there is a given percent (k) of data observations below this mark. For example the highest score on a test is 100% so a 40% percentile is score below which 40% percent of the data lies. There are some common names for certain well known percentiles. \n",
    "\n",
    "* The lower quartile is the 25% percentile. There are 25% of data observations below this mark.\n",
    "* The median is the 50% percentile. There are 50% of data observations below this mark. \n",
    "* The upper quartile is the 75% percentile. There are 75% of data observations below this mark. \n",
    "* The interquartile range is the differences between the 75% and 25% percentiles. \n",
    "\n",
    "Spear's range bar precursor illustrated the data's range (lowest value and highest value), and key data 'k' percentiles of the median, lower quartile, upper quartile and the interquartile range as well as the data's range. The range bar is presented horizontally. \n",
    "\n",
    "![Spear's Range Bar](img\\spearrangebar.jpg)\n",
    "\n",
    "\n",
    "\n",
    "Tukey promoted exploratory data analysis. The box plot is a method to quickly analysis data with a five number summary. A five number summary charts the data's lowest and highest values, and the first and last quartile along with the median [ref](). Tukey's version of the '5 number summaries' and presented it vertically with 'hinges' or lines drawn at the 25%, 50% and 75% mark. The 25% mark was used to construct the bottom of the box and the 75% mark was used to construct the top of the box, with the median indicated by straight line mark within this box. This is was termed the H-spread of the data. The horizontal width of the box does not convey any statistical significance in Tukey's model and can be drawn for aesthetics, although the box should not be squarish. There are two 'whiskers' extending from the midpoint of the top and bottom of the box. These indicate the data distribution outside of the interquartile range. There is some variation in how to draw the whiskers. The top whisker goes from the 75% mark to the 97.5% quartile and the bottom whisker extends from the 2.5% quartile to the 25% quartile. Any observations not within this range 2.5-97.5 are plotted as 'outlier' dots. An outlier is an data observation that is distant from other data in the dataset. It could indicate an error in data collection or be significant and it frequently affects statistical analysis skewing the data. Often outliers are removed from the dataset for this reason.\n",
    "\n",
    "![Tukey's Box and whiskers plot](img\\TukeyBoxWhiskers.gif)\n",
    "\n",
    "\n",
    "Tukey's five number summaries plotted were\n",
    "* \n",
    "* \n",
    "* \n",
    "* \n",
    "* \n",
    "\n",
    "\n",
    "\n",
    "\n"
   ]
  },
  {
   "cell_type": "code",
   "execution_count": null,
   "metadata": {},
   "outputs": [],
   "source": []
  },
  {
   "cell_type": "markdown",
   "metadata": {},
   "source": [
    "### demonstrate the use of matplotlib.pyplot.boxplot with data of your choosing\n",
    "\n",
    "![Matplotlib logo](img/logo2.png)\n",
    "\n",
    "\n",
    "[ref](https://matplotlib.org/api/_as_gen/matplotlib.pyplot.boxplot.html)\n",
    "\n",
    "Python has a module for plotting data called matplotlib. Within this there is a sub package called pyplot which has a function called boxplot. This is one way to plot boxplots within python. Other packages such as seaborn also have the ability to plot boxplots. For ease of reading matplotlib.pyplot will be abbreviated to plt. \n",
    "plt.box plot takes 28 inputs\n",
    "\n",
    "* x\n",
    "* notch\n",
    "* sym \n",
    "* vert\n",
    "* whis\n",
    "* positions\n",
    "* widths\n",
    "* patch_artist\n",
    "* bootstrap\n",
    "* usermedians\n",
    "* conf_intervals\n",
    "* meanline\n",
    "* showmeans\n",
    "* showcaps\n",
    "* showbox\n",
    "* showfliers\n",
    "* boxprops\n",
    "* labels\n",
    "* flierprops\n",
    "* medianprops\n",
    "* meanprops\n",
    "* capprops\n",
    "* whiskerprops\n",
    "* manage_xticks\n",
    "* autorange\n",
    "* zorder\n",
    "* \\*\n",
    "* data=None\n",
    "\n",
    "The default value for most of these (bar x, manage_xticks, autorange and \\*) is None. Many of these relate to the display of the boxplot. \n",
    "\n",
    "plt.boxplot takes an input *x* which can be an array or a vector column and draws its boxplot and whisker plot. The box is bound by the upper and lower quartile data values with the median value drawn though the box. The top whisker extend midway from the upper quartile line segment and the  bottom one from the midpoint of the lower quartile line segment. These extend north and south to indicate the range.\n",
    "\n",
    "### Data used\n",
    "Matplotlib.pyplot.boxplot features were explored using arrays and distributions generated by python package NumPy Random and its functions. "
   ]
  },
  {
   "cell_type": "code",
   "execution_count": 45,
   "metadata": {},
   "outputs": [
    {
     "data": {
      "image/png": "[encoded data removed]",
      "text/plain": [
       "<Figure size 432x288 with 1 Axes>"
      ]
     },
     "metadata": {
      "needs_background": "light"
     },
     "output_type": "display_data"
    }
   ],
   "source": [
    "x = [3, 7, 8, 5, 12, 14, 21, 13, 18, 50]\n",
    "plt.boxplot(x)\n",
    "plt.show()"
   ]
  },
  {
   "cell_type": "markdown",
   "metadata": {},
   "source": [
    "*notch* is a boolean (True, False, None)and defaults to False. Set notch = True and this shows the confidence interval at the median. Chambers, 1983 as cited in [ref](https://sites.google.com/site/davidsstatistics/home/notched-box-plots) notes that if there is no overlap between the notches of different box plots then there is a 95% confidence level that the box plots have different medians. \n",
    "\n"
   ]
  },
  {
   "cell_type": "code",
   "execution_count": 53,
   "metadata": {},
   "outputs": [
    {
     "name": "stdout",
     "output_type": "stream",
     "text": [
      "[ 4  9  1 11  7 10  8  3  7  2]\n"
     ]
    },
    {
     "data": {
      "image/png": "[encoded data removed]",
      "text/plain": [
       "<Figure size 432x288 with 1 Axes>"
      ]
     },
     "metadata": {
      "needs_background": "light"
     },
     "output_type": "display_data"
    }
   ],
   "source": [
    "y = np.random.randint(1, 12, 10)\n",
    "print(y)\n",
    "plt.boxplot(x, notch = True)\n",
    "plt.boxplot(y, notch = False)\n",
    "plt.show()"
   ]
  },
  {
   "cell_type": "markdown",
   "metadata": {},
   "source": [
    "*sym* is a string and it is the symbol used to mark the outlier points. If None is selected then the outliers are marked by the default 'o'. (The documentation says its 'b+' but I'm not getting a blue plus with the default value). \n",
    "\n"
   ]
  },
  {
   "cell_type": "code",
   "execution_count": 65,
   "metadata": {},
   "outputs": [
    {
     "data": {
      "image/png": "[encoded data removed]",
      "text/plain": [
       "<Figure size 432x288 with 2 Axes>"
      ]
     },
     "metadata": {
      "needs_background": "light"
     },
     "output_type": "display_data"
    }
   ],
   "source": [
    "plt.subplot(121)\n",
    "plt.boxplot(x, sym = None)\n",
    "plt.subplot(122)\n",
    "plt.boxplot(x, sym = 'b+')\n",
    "plt.show()"
   ]
  },
  {
   "cell_type": "markdown",
   "metadata": {},
   "source": [
    "*vert* is a boolean with default set to True. This sets the orientation of the box plot. The default is vertical orientation but if this option is set to False a horizontal boxplot is displayed. \n",
    "\n"
   ]
  },
  {
   "cell_type": "code",
   "execution_count": 67,
   "metadata": {},
   "outputs": [
    {
     "data": {
      "image/png": "[encoded data removed]",
      "text/plain": [
       "<Figure size 432x288 with 1 Axes>"
      ]
     },
     "metadata": {
      "needs_background": "light"
     },
     "output_type": "display_data"
    }
   ],
   "source": [
    "plt.boxplot(x, vert = False)\n",
    "plt.show()"
   ]
  },
  {
   "cell_type": "markdown",
   "metadata": {},
   "source": [
    "*whis* sets the length of the whiskers extending from the upper and lower quartile. The default value is 1.5 of the interquartile range IQR. The interquartile range is the difference between the upper quartile Q3 and the lower quartile Q1. For the default setting, the upper whisker is calculated by multiplying the IQR by whis and adding it to the upper quartile . The upper whisker will extend from the midpoint of the upper quartile to the last observation that is less than Q3+ whis \\*IRQ. The lower whisker extends from the lower quartile line segment midpoint to the first observation greater than Q1 - whis\\*IRQ. Any values outside of the whiskers are considered outliers. The whiskers can also be specified to span the maximum and minimum observations by entering 'range' as input. \n",
    "\n",
    "\n"
   ]
  },
  {
   "cell_type": "code",
   "execution_count": 72,
   "metadata": {},
   "outputs": [
    {
     "data": {
      "image/png": "[encoded data removed]",
      "text/plain": [
       "<Figure size 432x288 with 2 Axes>"
      ]
     },
     "metadata": {
      "needs_background": "light"
     },
     "output_type": "display_data"
    }
   ],
   "source": [
    "plt.subplot(121)\n",
    "plt.boxplot(x, whis = 'range' )\n",
    "plt.subplot(122)\n",
    "plt.boxplot(x, whis = 1.95)\n",
    "plt.show()"
   ]
  },
  {
   "cell_type": "markdown",
   "metadata": {},
   "source": [
    "*bootstrap* is an optional input that takes an integer value. It is used for notched boxplots and shows the bootstraped confidence interval around the median. Bootstrap refers to using an algorithm on the data itself in order to estimate the distribution of the data sample. These estimates can be then used to find the confidence interval of the percentile (in this case the median) [ref](https://garstats.wordpress.com/2016/05/27/the-percentile-bootstrap/). \n",
    "The default is None which means the notched boxplot is calculated via the limit of a normal distribution approximation method. If bootstrap is specified then the integer input is used to specify the median is bootstrapped in order to get the confidence interval to 95%. Recommended values are between 1000 and 10,000. \n"
   ]
  },
  {
   "cell_type": "code",
   "execution_count": 94,
   "metadata": {},
   "outputs": [
    {
     "data": {
      "image/png": "[encoded data removed]",
      "text/plain": [
       "<Figure size 432x288 with 2 Axes>"
      ]
     },
     "metadata": {
      "needs_background": "light"
     },
     "output_type": "display_data"
    }
   ],
   "source": [
    "plt.subplot(121)\n",
    "plt.boxplot(y)\n",
    "plt.subplot(122)\n",
    "plt.boxplot(y, bootstrap = 1000)\n",
    "plt.show()\n"
   ]
  },
  {
   "cell_type": "markdown",
   "metadata": {},
   "source": [
    "*usermedians* takes an **array** or sequence as an input which needs to be the same size (length or dimension) as *x*. Specifying usermedians allows the default median to be overwritten with user specified values. \n",
    "\n"
   ]
  },
  {
   "cell_type": "code",
   "execution_count": 150,
   "metadata": {},
   "outputs": [
    {
     "data": {
      "image/png": "[encoded data removed]",
      "text/plain": [
       "<Figure size 432x288 with 2 Axes>"
      ]
     },
     "metadata": {
      "needs_background": "light"
     },
     "output_type": "display_data"
    }
   ],
   "source": [
    "m, c = 5, 3,\n",
    "x = np.arange(0,10)\n",
    "error1= np.random.normal(1, 3)\n",
    "error2 = np.random.normal(2,7)\n",
    "data1 = m*x + c + error1\n",
    "data2 = m*x + c + error2\n",
    "usermedians =  [np.percentile(data2,50)]\n",
    "plt.subplot(121)\n",
    "plt.boxplot(data1)\n",
    "plt.subplot(122)\n",
    "plt.boxplot(data1, usermedians=usermedians)\n",
    "plt.show()"
   ]
  },
  {
   "cell_type": "markdown",
   "metadata": {},
   "source": [
    "*conf_intervals* is an optional input that takes array like values with the same shape (length or dimension) as *x* and whose second dimension is 2. The default value for conf_intervals is None. It is used in conjunction with notch. When this is specified it overwrites the notch calculated confidence intervals and replaces them with user specified intervals. \n"
   ]
  },
  {
   "cell_type": "code",
   "execution_count": 191,
   "metadata": {},
   "outputs": [
    {
     "name": "stdout",
     "output_type": "stream",
     "text": [
      "1 [array([66.11365243, 59.42668501, 78.78137479,  3.02739268, 80.22308679])]\n",
      "5 [[[0.46938219 0.84972679]]\n",
      "\n",
      " [[0.6526119  0.06254016]]\n",
      "\n",
      " [[0.95304238 0.77452702]]\n",
      "\n",
      " [[0.72287589 0.24001042]]\n",
      "\n",
      " [[0.34252774 0.66662548]]]\n"
     ]
    },
    {
     "ename": "ValueError",
     "evalue": "conf_intervals length not compatible with x",
     "output_type": "error",
     "traceback": [
      "\u001b[1;31m---------------------------------------------------------------------------\u001b[0m",
      "\u001b[1;31mValueError\u001b[0m                                Traceback (most recent call last)",
      "\u001b[1;32m<ipython-input-191-b4c93e8f4164>\u001b[0m in \u001b[0;36m<module>\u001b[1;34m\u001b[0m\n\u001b[0;32m      3\u001b[0m \u001b[0mcf_int\u001b[0m \u001b[1;33m=\u001b[0m \u001b[0mnp\u001b[0m\u001b[1;33m.\u001b[0m\u001b[0mrandom\u001b[0m\u001b[1;33m.\u001b[0m\u001b[0mrand\u001b[0m\u001b[1;33m(\u001b[0m\u001b[1;36m5\u001b[0m\u001b[1;33m,\u001b[0m \u001b[1;36m1\u001b[0m\u001b[1;33m,\u001b[0m  \u001b[1;36m2\u001b[0m\u001b[1;33m)\u001b[0m\u001b[1;33m\u001b[0m\u001b[1;33m\u001b[0m\u001b[0m\n\u001b[0;32m      4\u001b[0m \u001b[0mprint\u001b[0m\u001b[1;33m(\u001b[0m\u001b[0mlen\u001b[0m\u001b[1;33m(\u001b[0m\u001b[0mcf_int\u001b[0m\u001b[1;33m)\u001b[0m\u001b[1;33m,\u001b[0m \u001b[0mcf_int\u001b[0m\u001b[1;33m)\u001b[0m\u001b[1;33m\u001b[0m\u001b[1;33m\u001b[0m\u001b[0m\n\u001b[1;32m----> 5\u001b[1;33m \u001b[0mplt\u001b[0m\u001b[1;33m.\u001b[0m\u001b[0mboxplot\u001b[0m\u001b[1;33m(\u001b[0m\u001b[0mdata\u001b[0m\u001b[1;33m,\u001b[0m \u001b[0mnotch\u001b[0m \u001b[1;33m=\u001b[0m \u001b[1;32mTrue\u001b[0m\u001b[1;33m,\u001b[0m \u001b[0mconf_intervals\u001b[0m \u001b[1;33m=\u001b[0m \u001b[0mcf_int\u001b[0m\u001b[1;33m)\u001b[0m\u001b[1;33m\u001b[0m\u001b[1;33m\u001b[0m\u001b[0m\n\u001b[0m",
      "\u001b[1;32mC:\\ProgramData\\Anaconda3\\lib\\site-packages\\matplotlib\\pyplot.py\u001b[0m in \u001b[0;36mboxplot\u001b[1;34m(x, notch, sym, vert, whis, positions, widths, patch_artist, bootstrap, usermedians, conf_intervals, meanline, showmeans, showcaps, showbox, showfliers, boxprops, labels, flierprops, medianprops, meanprops, capprops, whiskerprops, manage_xticks, autorange, zorder, data)\u001b[0m\n\u001b[0;32m   2496\u001b[0m         \u001b[0mwhiskerprops\u001b[0m\u001b[1;33m=\u001b[0m\u001b[0mwhiskerprops\u001b[0m\u001b[1;33m,\u001b[0m \u001b[0mmanage_xticks\u001b[0m\u001b[1;33m=\u001b[0m\u001b[0mmanage_xticks\u001b[0m\u001b[1;33m,\u001b[0m\u001b[1;33m\u001b[0m\u001b[1;33m\u001b[0m\u001b[0m\n\u001b[0;32m   2497\u001b[0m         autorange=autorange, zorder=zorder, **({\"data\": data} if data\n\u001b[1;32m-> 2498\u001b[1;33m         is not None else {}))\n\u001b[0m\u001b[0;32m   2499\u001b[0m \u001b[1;33m\u001b[0m\u001b[0m\n\u001b[0;32m   2500\u001b[0m \u001b[1;33m\u001b[0m\u001b[0m\n",
      "\u001b[1;32mC:\\ProgramData\\Anaconda3\\lib\\site-packages\\matplotlib\\__init__.py\u001b[0m in \u001b[0;36minner\u001b[1;34m(ax, data, *args, **kwargs)\u001b[0m\n\u001b[0;32m   1803\u001b[0m                         \u001b[1;34m\"the Matplotlib list!)\"\u001b[0m \u001b[1;33m%\u001b[0m \u001b[1;33m(\u001b[0m\u001b[0mlabel_namer\u001b[0m\u001b[1;33m,\u001b[0m \u001b[0mfunc\u001b[0m\u001b[1;33m.\u001b[0m\u001b[0m__name__\u001b[0m\u001b[1;33m)\u001b[0m\u001b[1;33m,\u001b[0m\u001b[1;33m\u001b[0m\u001b[1;33m\u001b[0m\u001b[0m\n\u001b[0;32m   1804\u001b[0m                         RuntimeWarning, stacklevel=2)\n\u001b[1;32m-> 1805\u001b[1;33m             \u001b[1;32mreturn\u001b[0m \u001b[0mfunc\u001b[0m\u001b[1;33m(\u001b[0m\u001b[0max\u001b[0m\u001b[1;33m,\u001b[0m \u001b[1;33m*\u001b[0m\u001b[0margs\u001b[0m\u001b[1;33m,\u001b[0m \u001b[1;33m**\u001b[0m\u001b[0mkwargs\u001b[0m\u001b[1;33m)\u001b[0m\u001b[1;33m\u001b[0m\u001b[1;33m\u001b[0m\u001b[0m\n\u001b[0m\u001b[0;32m   1806\u001b[0m \u001b[1;33m\u001b[0m\u001b[0m\n\u001b[0;32m   1807\u001b[0m         inner.__doc__ = _add_data_doc(inner.__doc__,\n",
      "\u001b[1;32mC:\\ProgramData\\Anaconda3\\lib\\site-packages\\matplotlib\\axes\\_axes.py\u001b[0m in \u001b[0;36mboxplot\u001b[1;34m(self, x, notch, sym, vert, whis, positions, widths, patch_artist, bootstrap, usermedians, conf_intervals, meanline, showmeans, showcaps, showbox, showfliers, boxprops, labels, flierprops, medianprops, meanprops, capprops, whiskerprops, manage_xticks, autorange, zorder)\u001b[0m\n\u001b[0;32m   3582\u001b[0m             \u001b[1;32mif\u001b[0m \u001b[0mnp\u001b[0m\u001b[1;33m.\u001b[0m\u001b[0mshape\u001b[0m\u001b[1;33m(\u001b[0m\u001b[0mconf_intervals\u001b[0m\u001b[1;33m)\u001b[0m\u001b[1;33m[\u001b[0m\u001b[1;36m0\u001b[0m\u001b[1;33m]\u001b[0m \u001b[1;33m!=\u001b[0m \u001b[0mlen\u001b[0m\u001b[1;33m(\u001b[0m\u001b[0mbxpstats\u001b[0m\u001b[1;33m)\u001b[0m\u001b[1;33m:\u001b[0m\u001b[1;33m\u001b[0m\u001b[1;33m\u001b[0m\u001b[0m\n\u001b[0;32m   3583\u001b[0m                 \u001b[0merr_mess\u001b[0m \u001b[1;33m=\u001b[0m \u001b[1;34m'conf_intervals length not compatible with x'\u001b[0m\u001b[1;33m\u001b[0m\u001b[1;33m\u001b[0m\u001b[0m\n\u001b[1;32m-> 3584\u001b[1;33m                 \u001b[1;32mraise\u001b[0m \u001b[0mValueError\u001b[0m\u001b[1;33m(\u001b[0m\u001b[0merr_mess\u001b[0m\u001b[1;33m)\u001b[0m\u001b[1;33m\u001b[0m\u001b[1;33m\u001b[0m\u001b[0m\n\u001b[0m\u001b[0;32m   3585\u001b[0m             \u001b[1;32melse\u001b[0m\u001b[1;33m:\u001b[0m\u001b[1;33m\u001b[0m\u001b[1;33m\u001b[0m\u001b[0m\n\u001b[0;32m   3586\u001b[0m                 \u001b[1;32mfor\u001b[0m \u001b[0mstats\u001b[0m\u001b[1;33m,\u001b[0m \u001b[0mci\u001b[0m \u001b[1;32min\u001b[0m \u001b[0mzip\u001b[0m\u001b[1;33m(\u001b[0m\u001b[0mbxpstats\u001b[0m\u001b[1;33m,\u001b[0m \u001b[0mconf_intervals\u001b[0m\u001b[1;33m)\u001b[0m\u001b[1;33m:\u001b[0m\u001b[1;33m\u001b[0m\u001b[1;33m\u001b[0m\u001b[0m\n",
      "\u001b[1;31mValueError\u001b[0m: conf_intervals length not compatible with x"
     ]
    },
    {
     "data": {
      "image/png": "[encoded data removed]",
      "text/plain": [
       "<Figure size 432x288 with 1 Axes>"
      ]
     },
     "metadata": {
      "needs_background": "light"
     },
     "output_type": "display_data"
    }
   ],
   "source": [
    "data = [100*np.random.rand(5)]\n",
    "print(len(data), data)\n",
    "cf_int = np.random.rand(5, 1,  2)\n",
    "print(len(cf_int), cf_int)\n",
    "plt.boxplot(data, notch = True, conf_intervals = cf_int)"
   ]
  },
  {
   "cell_type": "code",
   "execution_count": null,
   "metadata": {},
   "outputs": [],
   "source": []
  },
  {
   "cell_type": "markdown",
   "metadata": {},
   "source": [
    "## Alternatives to Boxplots"
   ]
  },
  {
   "cell_type": "code",
   "execution_count": null,
   "metadata": {},
   "outputs": [],
   "source": []
  },
  {
   "cell_type": "code",
   "execution_count": null,
   "metadata": {},
   "outputs": [],
   "source": []
  },
  {
   "cell_type": "code",
   "execution_count": null,
   "metadata": {},
   "outputs": [],
   "source": []
  },
  {
   "cell_type": "code",
   "execution_count": null,
   "metadata": {},
   "outputs": [],
   "source": []
  },
  {
   "cell_type": "code",
   "execution_count": null,
   "metadata": {},
   "outputs": [],
   "source": []
  },
  {
   "cell_type": "code",
   "execution_count": null,
   "metadata": {},
   "outputs": [],
   "source": []
  },
  {
   "cell_type": "code",
   "execution_count": null,
   "metadata": {},
   "outputs": [],
   "source": []
  },
  {
   "cell_type": "code",
   "execution_count": null,
   "metadata": {},
   "outputs": [],
   "source": []
  },
  {
   "cell_type": "markdown",
   "metadata": {},
   "source": [
    "## References\n",
    "\n",
    "\n",
    "http://vita.had.co.nz/papers/boxplots.pdf\n",
    "\n",
    "\n",
    "https://www.jstatsoft.org/article/view/v008i17\n",
    "\n",
    "Principles of Medical Statistics Alvan R. Feinstein, M.D.\n"
   ]
  },
  {
   "cell_type": "code",
   "execution_count": null,
   "metadata": {},
   "outputs": [],
   "source": []
  },
  {
   "cell_type": "code",
   "execution_count": null,
   "metadata": {},
   "outputs": [],
   "source": []
  },
  {
   "cell_type": "code",
   "execution_count": null,
   "metadata": {},
   "outputs": [],
   "source": []
  },
  {
   "cell_type": "code",
   "execution_count": null,
   "metadata": {},
   "outputs": [],
   "source": []
  },
  {
   "cell_type": "code",
   "execution_count": null,
   "metadata": {},
   "outputs": [],
   "source": []
  },
  {
   "cell_type": "code",
   "execution_count": null,
   "metadata": {},
   "outputs": [],
   "source": []
  },
  {
   "cell_type": "code",
   "execution_count": null,
   "metadata": {},
   "outputs": [],
   "source": []
  },
  {
   "cell_type": "code",
   "execution_count": null,
   "metadata": {},
   "outputs": [],
   "source": []
  },
  {
   "cell_type": "code",
   "execution_count": null,
   "metadata": {},
   "outputs": [],
   "source": []
  },
  {
   "cell_type": "code",
   "execution_count": null,
   "metadata": {},
   "outputs": [],
   "source": []
  },
  {
   "cell_type": "code",
   "execution_count": null,
   "metadata": {},
   "outputs": [],
   "source": []
  },
  {
   "cell_type": "code",
   "execution_count": null,
   "metadata": {},
   "outputs": [],
   "source": []
  },
  {
   "cell_type": "code",
   "execution_count": null,
   "metadata": {},
   "outputs": [],
   "source": []
  },
  {
   "cell_type": "code",
   "execution_count": null,
   "metadata": {},
   "outputs": [],
   "source": []
  },
  {
   "cell_type": "code",
   "execution_count": null,
   "metadata": {},
   "outputs": [],
   "source": []
  },
  {
   "cell_type": "code",
   "execution_count": null,
   "metadata": {},
   "outputs": [],
   "source": []
  },
  {
   "cell_type": "code",
   "execution_count": null,
   "metadata": {},
   "outputs": [],
   "source": []
  },
  {
   "cell_type": "code",
   "execution_count": null,
   "metadata": {},
   "outputs": [],
   "source": []
  },
  {
   "cell_type": "code",
   "execution_count": null,
   "metadata": {},
   "outputs": [],
   "source": []
  },
  {
   "cell_type": "code",
   "execution_count": null,
   "metadata": {},
   "outputs": [],
   "source": []
  },
  {
   "cell_type": "code",
   "execution_count": null,
   "metadata": {},
   "outputs": [],
   "source": []
  },
  {
   "cell_type": "code",
   "execution_count": null,
   "metadata": {},
   "outputs": [],
   "source": []
  },
  {
   "cell_type": "code",
   "execution_count": null,
   "metadata": {},
   "outputs": [],
   "source": []
  }
 ],
 "metadata": {
  "kernelspec": {
   "display_name": "Python 3",
   "language": "python",
   "name": "python3"
  },
  "language_info": {
   "codemirror_mode": {
    "name": "ipython",
    "version": 3
   },
   "file_extension": ".py",
   "mimetype": "text/x-python",
   "name": "python",
   "nbconvert_exporter": "python",
   "pygments_lexer": "ipython3",
   "version": "3.6.7"
  }
 },
 "nbformat": 4,
 "nbformat_minor": 2
}
